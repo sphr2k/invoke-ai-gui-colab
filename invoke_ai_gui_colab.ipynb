{
  "cells": [
    {
      "cell_type": "markdown",
      "metadata": {
        "id": "V78TAa3W-9WN"
      },
      "source": [
        "# Для того, чтобы установить Invoke Ai, запустите код в каждой из форм.\n",
        "Для запуска сервера потребуется аккаунт на [ngrok](https://dashboard.ngrok.com/login)\n",
        "\n",
        "# To use Invoke Ai, launch the code in every form below.\n",
        "You will need an account on [ngrok](https://dashboard.ngrok.com/login)\n",
        "\n",
        "**[Repo](https://github.com/peaashmeter/invoke-ai-gui-colab)**"
      ]
    },
    {
      "cell_type": "code",
      "execution_count": null,
      "metadata": {
        "id": "hqe0rPfs6wJ3"
      },
      "outputs": [],
      "source": [
        "from google.colab import drive\n",
        "drive.mount('/content/drive')"
      ]
    },
    {
      "cell_type": "code",
      "execution_count": null,
      "metadata": {
        "id": "G5LfQaWe0bHK"
      },
      "outputs": [],
      "source": [
        "#@title Во время этого этапа Colab крашится, это нормально\n",
        "!pip install -q condacolab\n",
        "import condacolab\n",
        "condacolab.install()"
      ]
    },
    {
      "cell_type": "code",
      "execution_count": null,
      "metadata": {
        "id": "U-4vMQGrGXx8"
      },
      "outputs": [],
      "source": [
        "#@title Подготовка репозитория Invoke Ai { display-mode: \"form\" }\n",
        "%cd /home\n",
        "\n",
        "!git clone -n https://github.com/invoke-ai/InvokeAI.git\n",
        "%cd InvokeAI\n",
        "!git checkout 69b15024a93ecfbbb555c956f745e9748c12f044\n",
        "\n",
        "#dnspython fix\n",
        "!echo '    - dnspython==2.2.1' >> environments-and-requirements/environment-lin-cuda.yml\n",
        "\n",
        "!ln -sf environments-and-requirements/environment-lin-cuda.yml environment.yml\n",
        "!ls -la\n",
        "\n",
        "%cd ..\n",
        "\n",
        "!git clone https://github.com/sphr2k/invoke-ai-gui-colab.git\n",
        "\n",
        "\n",
        "%cd invoke-ai-gui-colab\n",
        "\n",
        "%cp cross_attention_control.py ../InvokeAI/ldm/models/diffusion/cross_attention_control.py\n",
        "%cp globals.py ../InvokeAI/ldm/invoke/globals.py"
      ]
    },
    {
      "cell_type": "code",
      "execution_count": null,
      "metadata": {
        "id": "0z1VLnSGQyrx"
      },
      "outputs": [],
      "source": [
        "#@title Установка зависимостей, в норме занимает ~10 минут { display-mode: \"form\" }\n",
        "%cd ../InvokeAI\n",
        "!pip install pyngrok --quiet\n",
        "!conda env update\n",
        "!source activate invokeai ; python scripts/configure_invokeai.py --skip-sd-weights --yes\n",
        "\n",
        "%cp ../invoke-ai-gui-colab/models.yaml /root/invokeai/configs \n",
        "\n"
      ]
    },
    {
      "cell_type": "code",
      "execution_count": null,
      "metadata": {
        "id": "OzFl5cmndBrd"
      },
      "outputs": [],
      "source": [
        "#@title Установка модели Anything { display-mode: \"form\" }\n",
        "import os\n",
        "\n",
        "os.system('cd /')\n",
        "os.system('mkdir -p /root/invokeai/models/ldm/stable-diffusion-v1')\n",
        "\n",
        "%mkdir -p /root/invokeai/models/ldm/stable-diffusion-v1/\n",
        "!ln -s /content/drive/MyDrive/models/Realistic_Vision_V1.4.ckpt /root/invokeai/models/ldm/stable-diffusion-v1/Realistic_Vision_V1.4.ckpt\n",
        "!ls -l /root/invokeai/models/ldm/stable-diffusion-v1/Realistic_Vision_V1.4.ckpt"
      ]
    },
    {
      "cell_type": "code",
      "execution_count": null,
      "metadata": {
        "id": "C826ebQkb_OQ"
      },
      "outputs": [],
      "source": [
        "#@title Запуск сервера { display-mode: \"both\" }\n",
        "#@markdown Вставьте токен с [ngrok](https://dashboard.ngrok.com/get-started/your-authtoken) в поле перед выполнением кода.\n",
        "\n",
        "ngrok_token = \"\" #@param {type:\"string\"}\n",
        "nsfw_checker = 0 #@param {type:\"slider\", min:0, max:1, step:1}\n",
        "used_vae = \"Anything-V4.0.vae\" #@param [\"Anything-V4.0.vae\", \"vae-ft-mse-840000-ema-pruned\"]\n",
        "\n",
        "import os\n",
        "from pyngrok import ngrok\n",
        "\n",
        "ngrok.kill()\n",
        "ngrok.set_auth_token(ngrok_token)\n",
        "public_url = ngrok.connect(9090).public_url\n",
        "print(f'Invoke Ai public url: {public_url}')\n",
        "\n",
        "%cd /home/InvokeAI\n",
        "\n",
        "model_name = \"Anything_v4.5_vaefixed\" #@param [\"Anything_v4.5_vaefixed\", \"Anything_v4_vaefixed\", \"Anything_v3_vaefixed\"]\n",
        "if used_vae == \"vae-ft-mse-840000-ema-pruned\":\n",
        "    if model_name == \"Anything_v4.5_vaefixed\":\n",
        "      model_name = \"Anything_v4.5_default\"\n",
        "    elif model_name == \"Anything_v4_vaefixed\":\n",
        "      model_name = \"Anything_v4_default\"\n",
        "    elif model_name == \"Anything_v3_vaefixed\":\n",
        "      model_name = \"Anything_v3_default\"\n",
        "\n",
        "\n",
        "if nsfw_checker:\n",
        "    !source activate invokeai ; python scripts/invoke.py --web --model $model_name\n",
        "else:\n",
        "    !source activate invokeai ; python scripts/invoke.py --web --no-nsfw_checker --model $model_name"
      ]
    },
    {
      "cell_type": "markdown",
      "metadata": {
        "id": "ckMayfYdkOmF"
      },
      "source": [
        "# После запуска сервера нужно перейти по первой ссылке из вывода (Invoke Ai public url)\n",
        "Если интерфейс не прогрузился, надо перезагрузить страницу\n",
        "---\n",
        "\n"
      ]
    }
  ],
  "metadata": {
    "accelerator": "GPU",
    "colab": {
      "provenance": []
    },
    "gpuClass": "standard",
    "kernelspec": {
      "display_name": "Python 3",
      "language": "python",
      "name": "python3"
    },
    "language_info": {
      "codemirror_mode": {
        "name": "ipython",
        "version": 3
      },
      "file_extension": ".py",
      "mimetype": "text/x-python",
      "name": "python",
      "nbconvert_exporter": "python",
      "pygments_lexer": "ipython3",
      "version": "3.9.0 (tags/v3.9.0:9cf6752, Oct  5 2020, 15:34:40) [MSC v.1927 64 bit (AMD64)]"
    },
    "orig_nbformat": 4,
    "vscode": {
      "interpreter": {
        "hash": "07f22fa44ccf32757507f6b49dc71cbc8d838934a5626a47cf7fbf3cda75c8a2"
      }
    }
  },
  "nbformat": 4,
  "nbformat_minor": 0
}
